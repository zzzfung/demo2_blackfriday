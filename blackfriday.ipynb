{
 "cells": [
  {
   "cell_type": "code",
   "execution_count": 1,
   "id": "a3a368ed-260c-46ac-ba46-b63678974db3",
   "metadata": {
    "tags": []
   },
   "outputs": [],
   "source": [
    "# 导入需要的包\n",
    "!pip install numpy pandas jovian plotly opendatasets scikit-learn xgboost --quiet"
   ]
  },
  {
   "cell_type": "code",
   "execution_count": 2,
   "id": "6728e3fd-0d6a-43ce-8863-8492c0b41322",
   "metadata": {
    "tags": []
   },
   "outputs": [],
   "source": [
    "# 导入numpy库，用于数值计算\n",
    "import numpy as np \n",
    "\n",
    "# 导入pandas库，用于数据处理和CSV文件的输入输出\n",
    "import pandas as pd \n",
    "\n",
    "# 导入os模块，用于与操作系统交互\n",
    "import os\n",
    "\n",
    "# Models Packages 模型包\n",
    "from sklearn import metrics # 导入sklearn的metrics模块，用于模型评估\n",
    "from sklearn.metrics import mean_squared_error # 导入均方误差函数\n",
    "from sklearn import feature_selection # 导入特征选择模块\n",
    "from sklearn.model_selection import train_test_split # 导入训练测试集分割函数\n",
    "from sklearn import preprocessing # 导入预处理模块\n",
    "import random # 导入随机数生成模块\n",
    "\n",
    "# Viz 可视化\n",
    "import seaborn as sns # 导入seaborn库，用于统计图形绘制\n",
    "import matplotlib.pyplot as plt # 导入matplotlib库，用于绘图\n",
    "import plotly.express as px # 导入plotly.express模块，用于交互式图表绘制\n",
    "from plotly import graph_objects as go # 导入plotly.graph_objects模块，用于创建自定义图表\n",
    "\n",
    "# 配置在Jupyter Notebook中直接显示图像\n",
    "import matplotlib\n",
    "%matplotlib inline\n",
    "\n",
    "# Configuring styles 配置样式\n",
    "sns.set_style(\"darkgrid\") # 设置seaborn的绘图风格为暗网格\n",
    "\n",
    "# 设置matplotlib的字体大小、图像大小和背景颜色\n",
    "matplotlib.rcParams['font.size'] = 12 \n",
    "matplotlib.rcParams['figure.figsize'] = (12, 6) \n",
    "matplotlib.rcParams['figure.facecolor'] = '#00000000'"
   ]
  },
  {
   "cell_type": "code",
   "execution_count": 3,
   "id": "7780a36c-677d-41de-86f1-9293ecbced69",
   "metadata": {
    "tags": []
   },
   "outputs": [
    {
     "name": "stdout",
     "output_type": "stream",
     "text": [
      "/home/jupyter/blackfriday\n"
     ]
    }
   ],
   "source": [
    "!pwd"
   ]
  },
  {
   "cell_type": "markdown",
   "id": "c06488f8-597f-4377-99d5-6cb295185cb3",
   "metadata": {},
   "source": [
    "# 下载数据"
   ]
  },
  {
   "cell_type": "code",
   "execution_count": 4,
   "id": "80c30b41-add4-4d9e-9281-0888e31082e2",
   "metadata": {
    "tags": []
   },
   "outputs": [],
   "source": [
    "from google.cloud import storage\n",
    "\n",
    "# 创建一个客户端实例\n",
    "client = storage.Client()\n",
    "\n",
    "# 指定你的 bucket 名称\n",
    "bucket_name = 'lxy-demo'\n",
    "\n",
    "# 创建一个对 bucket 的引用\n",
    "bucket = client.get_bucket(bucket_name)\n",
    "\n",
    "# 指定你要下载的 blob（文件）的名称\n",
    "blob_name = 'train.csv'\n",
    "\n",
    "# 创建一个对 blob 的引用\n",
    "blob = bucket.blob(blob_name)\n",
    "\n",
    "# 下载 blob 到当前目录\n",
    "blob.download_to_filename('train.csv')"
   ]
  },
  {
   "cell_type": "code",
   "execution_count": 5,
   "id": "c80dd423-2742-4fbc-be7a-650b57f87988",
   "metadata": {
    "tags": []
   },
   "outputs": [
    {
     "name": "stdout",
     "output_type": "stream",
     "text": [
      "数据总行数：\n",
      "550069 train.csv\n"
     ]
    }
   ],
   "source": [
    "# 数据集的行数\n",
    "print(\"数据总行数：\")\n",
    "!wc -l train.csv"
   ]
  },
  {
   "cell_type": "code",
   "execution_count": 3,
   "id": "7e75a095-c205-4fd4-b293-7f96cf3f6495",
   "metadata": {
    "tags": []
   },
   "outputs": [],
   "source": [
    "#使用来自整个数据集的样本数据\n",
    "df = pd.read_csv('./train.csv', nrows = 10000)\n",
    "\n",
    "# df = pd.read_csv('./train.csv')"
   ]
  },
  {
   "cell_type": "markdown",
   "id": "0a439bf9-0cc5-4085-86f3-22c96b8ac34c",
   "metadata": {},
   "source": [
    "# 数据基本信息"
   ]
  },
  {
   "cell_type": "code",
   "execution_count": 7,
   "id": "c467aa68-22d5-44d1-8034-3208a6db32d3",
   "metadata": {
    "tags": []
   },
   "outputs": [
    {
     "data": {
      "text/html": [
       "<div>\n",
       "<style scoped>\n",
       "    .dataframe tbody tr th:only-of-type {\n",
       "        vertical-align: middle;\n",
       "    }\n",
       "\n",
       "    .dataframe tbody tr th {\n",
       "        vertical-align: top;\n",
       "    }\n",
       "\n",
       "    .dataframe thead th {\n",
       "        text-align: right;\n",
       "    }\n",
       "</style>\n",
       "<table border=\"1\" class=\"dataframe\">\n",
       "  <thead>\n",
       "    <tr style=\"text-align: right;\">\n",
       "      <th></th>\n",
       "      <th>User_ID</th>\n",
       "      <th>Product_ID</th>\n",
       "      <th>Gender</th>\n",
       "      <th>Age</th>\n",
       "      <th>Occupation</th>\n",
       "      <th>City_Category</th>\n",
       "      <th>Stay_In_Current_City_Years</th>\n",
       "      <th>Marital_Status</th>\n",
       "      <th>Product_Category_1</th>\n",
       "      <th>Product_Category_2</th>\n",
       "      <th>Product_Category_3</th>\n",
       "      <th>Purchase</th>\n",
       "    </tr>\n",
       "  </thead>\n",
       "  <tbody>\n",
       "    <tr>\n",
       "      <th>0</th>\n",
       "      <td>1000001</td>\n",
       "      <td>P00069042</td>\n",
       "      <td>F</td>\n",
       "      <td>0-17</td>\n",
       "      <td>10</td>\n",
       "      <td>A</td>\n",
       "      <td>2</td>\n",
       "      <td>0</td>\n",
       "      <td>3</td>\n",
       "      <td>NaN</td>\n",
       "      <td>NaN</td>\n",
       "      <td>8370</td>\n",
       "    </tr>\n",
       "    <tr>\n",
       "      <th>1</th>\n",
       "      <td>1000001</td>\n",
       "      <td>P00248942</td>\n",
       "      <td>F</td>\n",
       "      <td>0-17</td>\n",
       "      <td>10</td>\n",
       "      <td>A</td>\n",
       "      <td>2</td>\n",
       "      <td>0</td>\n",
       "      <td>1</td>\n",
       "      <td>6.0</td>\n",
       "      <td>14.0</td>\n",
       "      <td>15200</td>\n",
       "    </tr>\n",
       "    <tr>\n",
       "      <th>2</th>\n",
       "      <td>1000001</td>\n",
       "      <td>P00087842</td>\n",
       "      <td>F</td>\n",
       "      <td>0-17</td>\n",
       "      <td>10</td>\n",
       "      <td>A</td>\n",
       "      <td>2</td>\n",
       "      <td>0</td>\n",
       "      <td>12</td>\n",
       "      <td>NaN</td>\n",
       "      <td>NaN</td>\n",
       "      <td>1422</td>\n",
       "    </tr>\n",
       "    <tr>\n",
       "      <th>3</th>\n",
       "      <td>1000001</td>\n",
       "      <td>P00085442</td>\n",
       "      <td>F</td>\n",
       "      <td>0-17</td>\n",
       "      <td>10</td>\n",
       "      <td>A</td>\n",
       "      <td>2</td>\n",
       "      <td>0</td>\n",
       "      <td>12</td>\n",
       "      <td>14.0</td>\n",
       "      <td>NaN</td>\n",
       "      <td>1057</td>\n",
       "    </tr>\n",
       "    <tr>\n",
       "      <th>4</th>\n",
       "      <td>1000002</td>\n",
       "      <td>P00285442</td>\n",
       "      <td>M</td>\n",
       "      <td>55+</td>\n",
       "      <td>16</td>\n",
       "      <td>C</td>\n",
       "      <td>4+</td>\n",
       "      <td>0</td>\n",
       "      <td>8</td>\n",
       "      <td>NaN</td>\n",
       "      <td>NaN</td>\n",
       "      <td>7969</td>\n",
       "    </tr>\n",
       "    <tr>\n",
       "      <th>5</th>\n",
       "      <td>1000003</td>\n",
       "      <td>P00193542</td>\n",
       "      <td>M</td>\n",
       "      <td>26-35</td>\n",
       "      <td>15</td>\n",
       "      <td>A</td>\n",
       "      <td>3</td>\n",
       "      <td>0</td>\n",
       "      <td>1</td>\n",
       "      <td>2.0</td>\n",
       "      <td>NaN</td>\n",
       "      <td>15227</td>\n",
       "    </tr>\n",
       "    <tr>\n",
       "      <th>6</th>\n",
       "      <td>1000004</td>\n",
       "      <td>P00184942</td>\n",
       "      <td>M</td>\n",
       "      <td>46-50</td>\n",
       "      <td>7</td>\n",
       "      <td>B</td>\n",
       "      <td>2</td>\n",
       "      <td>1</td>\n",
       "      <td>1</td>\n",
       "      <td>8.0</td>\n",
       "      <td>17.0</td>\n",
       "      <td>19215</td>\n",
       "    </tr>\n",
       "    <tr>\n",
       "      <th>7</th>\n",
       "      <td>1000004</td>\n",
       "      <td>P00346142</td>\n",
       "      <td>M</td>\n",
       "      <td>46-50</td>\n",
       "      <td>7</td>\n",
       "      <td>B</td>\n",
       "      <td>2</td>\n",
       "      <td>1</td>\n",
       "      <td>1</td>\n",
       "      <td>15.0</td>\n",
       "      <td>NaN</td>\n",
       "      <td>15854</td>\n",
       "    </tr>\n",
       "    <tr>\n",
       "      <th>8</th>\n",
       "      <td>1000004</td>\n",
       "      <td>P0097242</td>\n",
       "      <td>M</td>\n",
       "      <td>46-50</td>\n",
       "      <td>7</td>\n",
       "      <td>B</td>\n",
       "      <td>2</td>\n",
       "      <td>1</td>\n",
       "      <td>1</td>\n",
       "      <td>16.0</td>\n",
       "      <td>NaN</td>\n",
       "      <td>15686</td>\n",
       "    </tr>\n",
       "    <tr>\n",
       "      <th>9</th>\n",
       "      <td>1000005</td>\n",
       "      <td>P00274942</td>\n",
       "      <td>M</td>\n",
       "      <td>26-35</td>\n",
       "      <td>20</td>\n",
       "      <td>A</td>\n",
       "      <td>1</td>\n",
       "      <td>1</td>\n",
       "      <td>8</td>\n",
       "      <td>NaN</td>\n",
       "      <td>NaN</td>\n",
       "      <td>7871</td>\n",
       "    </tr>\n",
       "    <tr>\n",
       "      <th>10</th>\n",
       "      <td>1000005</td>\n",
       "      <td>P00251242</td>\n",
       "      <td>M</td>\n",
       "      <td>26-35</td>\n",
       "      <td>20</td>\n",
       "      <td>A</td>\n",
       "      <td>1</td>\n",
       "      <td>1</td>\n",
       "      <td>5</td>\n",
       "      <td>11.0</td>\n",
       "      <td>NaN</td>\n",
       "      <td>5254</td>\n",
       "    </tr>\n",
       "  </tbody>\n",
       "</table>\n",
       "</div>"
      ],
      "text/plain": [
       "    User_ID Product_ID Gender    Age  Occupation City_Category  \\\n",
       "0   1000001  P00069042      F   0-17          10             A   \n",
       "1   1000001  P00248942      F   0-17          10             A   \n",
       "2   1000001  P00087842      F   0-17          10             A   \n",
       "3   1000001  P00085442      F   0-17          10             A   \n",
       "4   1000002  P00285442      M    55+          16             C   \n",
       "5   1000003  P00193542      M  26-35          15             A   \n",
       "6   1000004  P00184942      M  46-50           7             B   \n",
       "7   1000004  P00346142      M  46-50           7             B   \n",
       "8   1000004   P0097242      M  46-50           7             B   \n",
       "9   1000005  P00274942      M  26-35          20             A   \n",
       "10  1000005  P00251242      M  26-35          20             A   \n",
       "\n",
       "   Stay_In_Current_City_Years  Marital_Status  Product_Category_1  \\\n",
       "0                           2               0                   3   \n",
       "1                           2               0                   1   \n",
       "2                           2               0                  12   \n",
       "3                           2               0                  12   \n",
       "4                          4+               0                   8   \n",
       "5                           3               0                   1   \n",
       "6                           2               1                   1   \n",
       "7                           2               1                   1   \n",
       "8                           2               1                   1   \n",
       "9                           1               1                   8   \n",
       "10                          1               1                   5   \n",
       "\n",
       "    Product_Category_2  Product_Category_3  Purchase  \n",
       "0                  NaN                 NaN      8370  \n",
       "1                  6.0                14.0     15200  \n",
       "2                  NaN                 NaN      1422  \n",
       "3                 14.0                 NaN      1057  \n",
       "4                  NaN                 NaN      7969  \n",
       "5                  2.0                 NaN     15227  \n",
       "6                  8.0                17.0     19215  \n",
       "7                 15.0                 NaN     15854  \n",
       "8                 16.0                 NaN     15686  \n",
       "9                  NaN                 NaN      7871  \n",
       "10                11.0                 NaN      5254  "
      ]
     },
     "execution_count": 7,
     "metadata": {},
     "output_type": "execute_result"
    }
   ],
   "source": [
    "# 查看数据详情\n",
    "df.head(11)"
   ]
  },
  {
   "cell_type": "code",
   "execution_count": 8,
   "id": "ae79b50e-7200-4f13-aebf-4bd74a6a857d",
   "metadata": {
    "tags": []
   },
   "outputs": [
    {
     "data": {
      "text/html": [
       "<div>\n",
       "<style scoped>\n",
       "    .dataframe tbody tr th:only-of-type {\n",
       "        vertical-align: middle;\n",
       "    }\n",
       "\n",
       "    .dataframe tbody tr th {\n",
       "        vertical-align: top;\n",
       "    }\n",
       "\n",
       "    .dataframe thead th {\n",
       "        text-align: right;\n",
       "    }\n",
       "</style>\n",
       "<table border=\"1\" class=\"dataframe\">\n",
       "  <thead>\n",
       "    <tr style=\"text-align: right;\">\n",
       "      <th></th>\n",
       "      <th>User_ID</th>\n",
       "      <th>Product_ID</th>\n",
       "      <th>Gender</th>\n",
       "      <th>Age</th>\n",
       "      <th>Occupation</th>\n",
       "      <th>City_Category</th>\n",
       "      <th>Stay_In_Current_City_Years</th>\n",
       "      <th>Marital_Status</th>\n",
       "      <th>Product_Category_1</th>\n",
       "      <th>Product_Category_2</th>\n",
       "      <th>Product_Category_3</th>\n",
       "      <th>Purchase</th>\n",
       "    </tr>\n",
       "  </thead>\n",
       "  <tbody>\n",
       "    <tr>\n",
       "      <th>6060</th>\n",
       "      <td>1000984</td>\n",
       "      <td>P00187842</td>\n",
       "      <td>M</td>\n",
       "      <td>51-55</td>\n",
       "      <td>16</td>\n",
       "      <td>A</td>\n",
       "      <td>2</td>\n",
       "      <td>1</td>\n",
       "      <td>1</td>\n",
       "      <td>16.0</td>\n",
       "      <td>NaN</td>\n",
       "      <td>15179</td>\n",
       "    </tr>\n",
       "    <tr>\n",
       "      <th>9395</th>\n",
       "      <td>1001443</td>\n",
       "      <td>P00255742</td>\n",
       "      <td>M</td>\n",
       "      <td>36-45</td>\n",
       "      <td>2</td>\n",
       "      <td>C</td>\n",
       "      <td>0</td>\n",
       "      <td>1</td>\n",
       "      <td>3</td>\n",
       "      <td>4.0</td>\n",
       "      <td>NaN</td>\n",
       "      <td>13655</td>\n",
       "    </tr>\n",
       "    <tr>\n",
       "      <th>9612</th>\n",
       "      <td>1001465</td>\n",
       "      <td>P00179542</td>\n",
       "      <td>M</td>\n",
       "      <td>51-55</td>\n",
       "      <td>16</td>\n",
       "      <td>B</td>\n",
       "      <td>4+</td>\n",
       "      <td>1</td>\n",
       "      <td>11</td>\n",
       "      <td>NaN</td>\n",
       "      <td>NaN</td>\n",
       "      <td>2973</td>\n",
       "    </tr>\n",
       "    <tr>\n",
       "      <th>19</th>\n",
       "      <td>1000008</td>\n",
       "      <td>P00249542</td>\n",
       "      <td>M</td>\n",
       "      <td>26-35</td>\n",
       "      <td>12</td>\n",
       "      <td>C</td>\n",
       "      <td>4+</td>\n",
       "      <td>1</td>\n",
       "      <td>1</td>\n",
       "      <td>5.0</td>\n",
       "      <td>15.0</td>\n",
       "      <td>19614</td>\n",
       "    </tr>\n",
       "    <tr>\n",
       "      <th>9619</th>\n",
       "      <td>1001465</td>\n",
       "      <td>P00110642</td>\n",
       "      <td>M</td>\n",
       "      <td>51-55</td>\n",
       "      <td>16</td>\n",
       "      <td>B</td>\n",
       "      <td>4+</td>\n",
       "      <td>1</td>\n",
       "      <td>5</td>\n",
       "      <td>NaN</td>\n",
       "      <td>NaN</td>\n",
       "      <td>8885</td>\n",
       "    </tr>\n",
       "    <tr>\n",
       "      <th>7818</th>\n",
       "      <td>1001215</td>\n",
       "      <td>P00183042</td>\n",
       "      <td>M</td>\n",
       "      <td>36-45</td>\n",
       "      <td>17</td>\n",
       "      <td>C</td>\n",
       "      <td>0</td>\n",
       "      <td>0</td>\n",
       "      <td>15</td>\n",
       "      <td>16.0</td>\n",
       "      <td>NaN</td>\n",
       "      <td>21410</td>\n",
       "    </tr>\n",
       "    <tr>\n",
       "      <th>924</th>\n",
       "      <td>1000163</td>\n",
       "      <td>P00305142</td>\n",
       "      <td>M</td>\n",
       "      <td>18-25</td>\n",
       "      <td>4</td>\n",
       "      <td>A</td>\n",
       "      <td>1</td>\n",
       "      <td>0</td>\n",
       "      <td>1</td>\n",
       "      <td>NaN</td>\n",
       "      <td>NaN</td>\n",
       "      <td>11575</td>\n",
       "    </tr>\n",
       "    <tr>\n",
       "      <th>2067</th>\n",
       "      <td>1000327</td>\n",
       "      <td>P00296942</td>\n",
       "      <td>M</td>\n",
       "      <td>36-45</td>\n",
       "      <td>18</td>\n",
       "      <td>C</td>\n",
       "      <td>4+</td>\n",
       "      <td>0</td>\n",
       "      <td>8</td>\n",
       "      <td>NaN</td>\n",
       "      <td>NaN</td>\n",
       "      <td>8142</td>\n",
       "    </tr>\n",
       "    <tr>\n",
       "      <th>8120</th>\n",
       "      <td>1001261</td>\n",
       "      <td>P00340642</td>\n",
       "      <td>M</td>\n",
       "      <td>18-25</td>\n",
       "      <td>4</td>\n",
       "      <td>C</td>\n",
       "      <td>2</td>\n",
       "      <td>0</td>\n",
       "      <td>5</td>\n",
       "      <td>NaN</td>\n",
       "      <td>NaN</td>\n",
       "      <td>5154</td>\n",
       "    </tr>\n",
       "    <tr>\n",
       "      <th>2629</th>\n",
       "      <td>1000424</td>\n",
       "      <td>P00316842</td>\n",
       "      <td>M</td>\n",
       "      <td>26-35</td>\n",
       "      <td>17</td>\n",
       "      <td>A</td>\n",
       "      <td>3</td>\n",
       "      <td>0</td>\n",
       "      <td>4</td>\n",
       "      <td>5.0</td>\n",
       "      <td>NaN</td>\n",
       "      <td>2769</td>\n",
       "    </tr>\n",
       "    <tr>\n",
       "      <th>712</th>\n",
       "      <td>1000136</td>\n",
       "      <td>P00189842</td>\n",
       "      <td>M</td>\n",
       "      <td>18-25</td>\n",
       "      <td>2</td>\n",
       "      <td>B</td>\n",
       "      <td>3</td>\n",
       "      <td>0</td>\n",
       "      <td>3</td>\n",
       "      <td>4.0</td>\n",
       "      <td>5.0</td>\n",
       "      <td>5596</td>\n",
       "    </tr>\n",
       "    <tr>\n",
       "      <th>72</th>\n",
       "      <td>1000018</td>\n",
       "      <td>P00151842</td>\n",
       "      <td>F</td>\n",
       "      <td>18-25</td>\n",
       "      <td>3</td>\n",
       "      <td>B</td>\n",
       "      <td>3</td>\n",
       "      <td>0</td>\n",
       "      <td>4</td>\n",
       "      <td>8.0</td>\n",
       "      <td>9.0</td>\n",
       "      <td>2802</td>\n",
       "    </tr>\n",
       "    <tr>\n",
       "      <th>9073</th>\n",
       "      <td>1001389</td>\n",
       "      <td>P00148542</td>\n",
       "      <td>M</td>\n",
       "      <td>26-35</td>\n",
       "      <td>17</td>\n",
       "      <td>B</td>\n",
       "      <td>4+</td>\n",
       "      <td>1</td>\n",
       "      <td>1</td>\n",
       "      <td>16.0</td>\n",
       "      <td>17.0</td>\n",
       "      <td>8207</td>\n",
       "    </tr>\n",
       "    <tr>\n",
       "      <th>9108</th>\n",
       "      <td>1001391</td>\n",
       "      <td>P00127842</td>\n",
       "      <td>M</td>\n",
       "      <td>36-45</td>\n",
       "      <td>15</td>\n",
       "      <td>C</td>\n",
       "      <td>0</td>\n",
       "      <td>1</td>\n",
       "      <td>1</td>\n",
       "      <td>2.0</td>\n",
       "      <td>15.0</td>\n",
       "      <td>15239</td>\n",
       "    </tr>\n",
       "    <tr>\n",
       "      <th>9460</th>\n",
       "      <td>1001448</td>\n",
       "      <td>P00100842</td>\n",
       "      <td>F</td>\n",
       "      <td>26-35</td>\n",
       "      <td>3</td>\n",
       "      <td>A</td>\n",
       "      <td>1</td>\n",
       "      <td>0</td>\n",
       "      <td>5</td>\n",
       "      <td>NaN</td>\n",
       "      <td>NaN</td>\n",
       "      <td>6937</td>\n",
       "    </tr>\n",
       "  </tbody>\n",
       "</table>\n",
       "</div>"
      ],
      "text/plain": [
       "      User_ID Product_ID Gender    Age  Occupation City_Category  \\\n",
       "6060  1000984  P00187842      M  51-55          16             A   \n",
       "9395  1001443  P00255742      M  36-45           2             C   \n",
       "9612  1001465  P00179542      M  51-55          16             B   \n",
       "19    1000008  P00249542      M  26-35          12             C   \n",
       "9619  1001465  P00110642      M  51-55          16             B   \n",
       "7818  1001215  P00183042      M  36-45          17             C   \n",
       "924   1000163  P00305142      M  18-25           4             A   \n",
       "2067  1000327  P00296942      M  36-45          18             C   \n",
       "8120  1001261  P00340642      M  18-25           4             C   \n",
       "2629  1000424  P00316842      M  26-35          17             A   \n",
       "712   1000136  P00189842      M  18-25           2             B   \n",
       "72    1000018  P00151842      F  18-25           3             B   \n",
       "9073  1001389  P00148542      M  26-35          17             B   \n",
       "9108  1001391  P00127842      M  36-45          15             C   \n",
       "9460  1001448  P00100842      F  26-35           3             A   \n",
       "\n",
       "     Stay_In_Current_City_Years  Marital_Status  Product_Category_1  \\\n",
       "6060                          2               1                   1   \n",
       "9395                          0               1                   3   \n",
       "9612                         4+               1                  11   \n",
       "19                           4+               1                   1   \n",
       "9619                         4+               1                   5   \n",
       "7818                          0               0                  15   \n",
       "924                           1               0                   1   \n",
       "2067                         4+               0                   8   \n",
       "8120                          2               0                   5   \n",
       "2629                          3               0                   4   \n",
       "712                           3               0                   3   \n",
       "72                            3               0                   4   \n",
       "9073                         4+               1                   1   \n",
       "9108                          0               1                   1   \n",
       "9460                          1               0                   5   \n",
       "\n",
       "      Product_Category_2  Product_Category_3  Purchase  \n",
       "6060                16.0                 NaN     15179  \n",
       "9395                 4.0                 NaN     13655  \n",
       "9612                 NaN                 NaN      2973  \n",
       "19                   5.0                15.0     19614  \n",
       "9619                 NaN                 NaN      8885  \n",
       "7818                16.0                 NaN     21410  \n",
       "924                  NaN                 NaN     11575  \n",
       "2067                 NaN                 NaN      8142  \n",
       "8120                 NaN                 NaN      5154  \n",
       "2629                 5.0                 NaN      2769  \n",
       "712                  4.0                 5.0      5596  \n",
       "72                   8.0                 9.0      2802  \n",
       "9073                16.0                17.0      8207  \n",
       "9108                 2.0                15.0     15239  \n",
       "9460                 NaN                 NaN      6937  "
      ]
     },
     "execution_count": 8,
     "metadata": {},
     "output_type": "execute_result"
    }
   ],
   "source": [
    "# 数据基本信息\n",
    "df.sample(15)"
   ]
  },
  {
   "cell_type": "code",
   "execution_count": 9,
   "id": "417cb9c9-e6b6-487b-9ff3-45cf6ad775a2",
   "metadata": {
    "tags": []
   },
   "outputs": [
    {
     "name": "stdout",
     "output_type": "stream",
     "text": [
      "<class 'pandas.core.frame.DataFrame'>\n",
      "RangeIndex: 10000 entries, 0 to 9999\n",
      "Data columns (total 12 columns):\n",
      " #   Column                      Non-Null Count  Dtype  \n",
      "---  ------                      --------------  -----  \n",
      " 0   User_ID                     10000 non-null  int64  \n",
      " 1   Product_ID                  10000 non-null  object \n",
      " 2   Gender                      10000 non-null  object \n",
      " 3   Age                         10000 non-null  object \n",
      " 4   Occupation                  10000 non-null  int64  \n",
      " 5   City_Category               10000 non-null  object \n",
      " 6   Stay_In_Current_City_Years  10000 non-null  object \n",
      " 7   Marital_Status              10000 non-null  int64  \n",
      " 8   Product_Category_1          10000 non-null  int64  \n",
      " 9   Product_Category_2          6757 non-null   float64\n",
      " 10  Product_Category_3          2997 non-null   float64\n",
      " 11  Purchase                    10000 non-null  int64  \n",
      "dtypes: float64(2), int64(5), object(5)\n",
      "memory usage: 937.6+ KB\n"
     ]
    }
   ],
   "source": [
    "# 数据类型信息\n",
    "df.info()"
   ]
  },
  {
   "cell_type": "code",
   "execution_count": 10,
   "id": "14c73607-4ad0-4bcd-9f86-27eabb6adf47",
   "metadata": {
    "tags": []
   },
   "outputs": [
    {
     "data": {
      "text/html": [
       "<div>\n",
       "<style scoped>\n",
       "    .dataframe tbody tr th:only-of-type {\n",
       "        vertical-align: middle;\n",
       "    }\n",
       "\n",
       "    .dataframe tbody tr th {\n",
       "        vertical-align: top;\n",
       "    }\n",
       "\n",
       "    .dataframe thead th {\n",
       "        text-align: right;\n",
       "    }\n",
       "</style>\n",
       "<table border=\"1\" class=\"dataframe\">\n",
       "  <thead>\n",
       "    <tr style=\"text-align: right;\">\n",
       "      <th></th>\n",
       "      <th>count</th>\n",
       "      <th>mean</th>\n",
       "      <th>std</th>\n",
       "      <th>min</th>\n",
       "      <th>25%</th>\n",
       "      <th>50%</th>\n",
       "      <th>75%</th>\n",
       "      <th>max</th>\n",
       "    </tr>\n",
       "  </thead>\n",
       "  <tbody>\n",
       "    <tr>\n",
       "      <th>User_ID</th>\n",
       "      <td>10000.0</td>\n",
       "      <td>1.000791e+06</td>\n",
       "      <td>440.222895</td>\n",
       "      <td>1000001.0</td>\n",
       "      <td>1000403.00</td>\n",
       "      <td>1000817.0</td>\n",
       "      <td>1001172.00</td>\n",
       "      <td>1001530.0</td>\n",
       "    </tr>\n",
       "    <tr>\n",
       "      <th>Occupation</th>\n",
       "      <td>10000.0</td>\n",
       "      <td>8.433700e+00</td>\n",
       "      <td>6.660333</td>\n",
       "      <td>0.0</td>\n",
       "      <td>3.00</td>\n",
       "      <td>7.0</td>\n",
       "      <td>15.00</td>\n",
       "      <td>20.0</td>\n",
       "    </tr>\n",
       "    <tr>\n",
       "      <th>Marital_Status</th>\n",
       "      <td>10000.0</td>\n",
       "      <td>4.053000e-01</td>\n",
       "      <td>0.490975</td>\n",
       "      <td>0.0</td>\n",
       "      <td>0.00</td>\n",
       "      <td>0.0</td>\n",
       "      <td>1.00</td>\n",
       "      <td>1.0</td>\n",
       "    </tr>\n",
       "    <tr>\n",
       "      <th>Product_Category_1</th>\n",
       "      <td>10000.0</td>\n",
       "      <td>5.292800e+00</td>\n",
       "      <td>3.660739</td>\n",
       "      <td>1.0</td>\n",
       "      <td>2.00</td>\n",
       "      <td>5.0</td>\n",
       "      <td>8.00</td>\n",
       "      <td>18.0</td>\n",
       "    </tr>\n",
       "    <tr>\n",
       "      <th>Product_Category_2</th>\n",
       "      <td>6757.0</td>\n",
       "      <td>9.796359e+00</td>\n",
       "      <td>5.055550</td>\n",
       "      <td>2.0</td>\n",
       "      <td>5.00</td>\n",
       "      <td>9.0</td>\n",
       "      <td>14.00</td>\n",
       "      <td>18.0</td>\n",
       "    </tr>\n",
       "    <tr>\n",
       "      <th>Product_Category_3</th>\n",
       "      <td>2997.0</td>\n",
       "      <td>1.281114e+01</td>\n",
       "      <td>4.057049</td>\n",
       "      <td>3.0</td>\n",
       "      <td>9.00</td>\n",
       "      <td>14.0</td>\n",
       "      <td>16.00</td>\n",
       "      <td>18.0</td>\n",
       "    </tr>\n",
       "    <tr>\n",
       "      <th>Purchase</th>\n",
       "      <td>10000.0</td>\n",
       "      <td>9.152488e+03</td>\n",
       "      <td>4881.543001</td>\n",
       "      <td>186.0</td>\n",
       "      <td>5831.75</td>\n",
       "      <td>8021.5</td>\n",
       "      <td>11922.25</td>\n",
       "      <td>23958.0</td>\n",
       "    </tr>\n",
       "  </tbody>\n",
       "</table>\n",
       "</div>"
      ],
      "text/plain": [
       "                      count          mean          std        min         25%  \\\n",
       "User_ID             10000.0  1.000791e+06   440.222895  1000001.0  1000403.00   \n",
       "Occupation          10000.0  8.433700e+00     6.660333        0.0        3.00   \n",
       "Marital_Status      10000.0  4.053000e-01     0.490975        0.0        0.00   \n",
       "Product_Category_1  10000.0  5.292800e+00     3.660739        1.0        2.00   \n",
       "Product_Category_2   6757.0  9.796359e+00     5.055550        2.0        5.00   \n",
       "Product_Category_3   2997.0  1.281114e+01     4.057049        3.0        9.00   \n",
       "Purchase            10000.0  9.152488e+03  4881.543001      186.0     5831.75   \n",
       "\n",
       "                          50%         75%        max  \n",
       "User_ID             1000817.0  1001172.00  1001530.0  \n",
       "Occupation                7.0       15.00       20.0  \n",
       "Marital_Status            0.0        1.00        1.0  \n",
       "Product_Category_1        5.0        8.00       18.0  \n",
       "Product_Category_2        9.0       14.00       18.0  \n",
       "Product_Category_3       14.0       16.00       18.0  \n",
       "Purchase               8021.5    11922.25    23958.0  "
      ]
     },
     "execution_count": 10,
     "metadata": {},
     "output_type": "execute_result"
    }
   ],
   "source": [
    "# 特征的统计信息\n",
    "df.describe().T"
   ]
  },
  {
   "cell_type": "code",
   "execution_count": 11,
   "id": "05df93ed-9577-4102-acb3-3f71196cbdf5",
   "metadata": {
    "tags": []
   },
   "outputs": [
    {
     "data": {
      "text/html": [
       "<div>\n",
       "<style scoped>\n",
       "    .dataframe tbody tr th:only-of-type {\n",
       "        vertical-align: middle;\n",
       "    }\n",
       "\n",
       "    .dataframe tbody tr th {\n",
       "        vertical-align: top;\n",
       "    }\n",
       "\n",
       "    .dataframe thead th {\n",
       "        text-align: right;\n",
       "    }\n",
       "</style>\n",
       "<table border=\"1\" class=\"dataframe\">\n",
       "  <thead>\n",
       "    <tr style=\"text-align: right;\">\n",
       "      <th></th>\n",
       "      <th>count</th>\n",
       "      <th>unique</th>\n",
       "      <th>top</th>\n",
       "      <th>freq</th>\n",
       "    </tr>\n",
       "  </thead>\n",
       "  <tbody>\n",
       "    <tr>\n",
       "      <th>Product_ID</th>\n",
       "      <td>10000</td>\n",
       "      <td>2303</td>\n",
       "      <td>P00025442</td>\n",
       "      <td>35</td>\n",
       "    </tr>\n",
       "    <tr>\n",
       "      <th>Gender</th>\n",
       "      <td>10000</td>\n",
       "      <td>2</td>\n",
       "      <td>M</td>\n",
       "      <td>7636</td>\n",
       "    </tr>\n",
       "    <tr>\n",
       "      <th>Age</th>\n",
       "      <td>10000</td>\n",
       "      <td>7</td>\n",
       "      <td>26-35</td>\n",
       "      <td>3776</td>\n",
       "    </tr>\n",
       "    <tr>\n",
       "      <th>City_Category</th>\n",
       "      <td>10000</td>\n",
       "      <td>3</td>\n",
       "      <td>B</td>\n",
       "      <td>3711</td>\n",
       "    </tr>\n",
       "    <tr>\n",
       "      <th>Stay_In_Current_City_Years</th>\n",
       "      <td>10000</td>\n",
       "      <td>5</td>\n",
       "      <td>1</td>\n",
       "      <td>3190</td>\n",
       "    </tr>\n",
       "  </tbody>\n",
       "</table>\n",
       "</div>"
      ],
      "text/plain": [
       "                            count unique        top  freq\n",
       "Product_ID                  10000   2303  P00025442    35\n",
       "Gender                      10000      2          M  7636\n",
       "Age                         10000      7      26-35  3776\n",
       "City_Category               10000      3          B  3711\n",
       "Stay_In_Current_City_Years  10000      5          1  3190"
      ]
     },
     "execution_count": 11,
     "metadata": {},
     "output_type": "execute_result"
    }
   ],
   "source": [
    "df.describe(include=['O']).T"
   ]
  },
  {
   "cell_type": "code",
   "execution_count": 12,
   "id": "d0f55d31-0607-4a35-b911-638df687b7e1",
   "metadata": {
    "tags": []
   },
   "outputs": [
    {
     "data": {
      "text/plain": [
       "array(['2', '4+', '3', '1', '0'], dtype=object)"
      ]
     },
     "execution_count": 12,
     "metadata": {},
     "output_type": "execute_result"
    }
   ],
   "source": [
    "# 停留年份\n",
    "df.Stay_In_Current_City_Years.unique()"
   ]
  },
  {
   "cell_type": "code",
   "execution_count": 13,
   "id": "4dd0e9b0-1ec4-43e3-b27c-ffe33456f927",
   "metadata": {
    "tags": []
   },
   "outputs": [
    {
     "data": {
      "text/plain": [
       "array(['0-17', '55+', '26-35', '46-50', '51-55', '36-45', '18-25'],\n",
       "      dtype=object)"
      ]
     },
     "execution_count": 13,
     "metadata": {},
     "output_type": "execute_result"
    }
   ],
   "source": [
    "# 年龄段\n",
    "df.Age.unique()"
   ]
  },
  {
   "cell_type": "code",
   "execution_count": 14,
   "id": "0354a7ca-5015-4468-895e-0f2945b291a6",
   "metadata": {
    "tags": []
   },
   "outputs": [
    {
     "data": {
      "text/plain": [
       "array(['A', 'C', 'B'], dtype=object)"
      ]
     },
     "execution_count": 14,
     "metadata": {},
     "output_type": "execute_result"
    }
   ],
   "source": [
    "# 城市\n",
    "df.City_Category.unique()"
   ]
  },
  {
   "cell_type": "code",
   "execution_count": 15,
   "id": "0a8ad444-e228-41aa-8cba-b2f01e5d94b2",
   "metadata": {
    "tags": []
   },
   "outputs": [
    {
     "data": {
      "text/plain": [
       "array(['F', 'M'], dtype=object)"
      ]
     },
     "execution_count": 15,
     "metadata": {},
     "output_type": "execute_result"
    }
   ],
   "source": [
    "# 性别\n",
    "df.Gender.unique()"
   ]
  },
  {
   "cell_type": "code",
   "execution_count": 16,
   "id": "8ab5b7c7-3532-45e0-ae9e-de6c3ee222b1",
   "metadata": {
    "tags": []
   },
   "outputs": [
    {
     "data": {
      "text/plain": [
       "array([ 3,  1, 12,  8,  5,  4,  2,  6, 14, 11, 13, 15,  7, 16, 18, 10, 17,\n",
       "        9])"
      ]
     },
     "execution_count": 16,
     "metadata": {},
     "output_type": "execute_result"
    }
   ],
   "source": [
    "# 产品类别1\n",
    "df.Product_Category_1.unique()"
   ]
  },
  {
   "cell_type": "code",
   "execution_count": 17,
   "id": "44bc701c-1462-47df-a432-2c75ed0d5792",
   "metadata": {
    "tags": []
   },
   "outputs": [
    {
     "data": {
      "text/plain": [
       "array([nan,  6., 14.,  2.,  8., 15., 16., 11.,  5.,  3.,  4., 12.,  9.,\n",
       "       10., 17., 13.,  7., 18.])"
      ]
     },
     "execution_count": 17,
     "metadata": {},
     "output_type": "execute_result"
    }
   ],
   "source": [
    "# 产品类别2\n",
    "df.Product_Category_2.unique()"
   ]
  },
  {
   "cell_type": "code",
   "execution_count": 18,
   "id": "ed3c2099-89db-4992-957b-d4dfa7ac918f",
   "metadata": {
    "tags": []
   },
   "outputs": [
    {
     "data": {
      "text/plain": [
       "array([nan, 14., 17.,  5.,  4., 16., 15.,  8.,  9., 13.,  6., 12.,  3.,\n",
       "       18., 11., 10.])"
      ]
     },
     "execution_count": 18,
     "metadata": {},
     "output_type": "execute_result"
    }
   ],
   "source": [
    "# 产品类别3\n",
    "df.Product_Category_3.unique()"
   ]
  },
  {
   "cell_type": "code",
   "execution_count": 19,
   "id": "b08320d6-1f25-4de0-830a-a95e6c761052",
   "metadata": {
    "tags": []
   },
   "outputs": [
    {
     "data": {
      "image/png": "[encoded data removed]",
      "text/plain": [
       "<Figure size 1200x800 with 9 Axes>"
      ]
     },
     "metadata": {
      "needs_background": "light"
     },
     "output_type": "display_data"
    }
   ],
   "source": [
    "# 直方图 -  查看数值特征分布\n",
    "df.hist(figsize=(12, 8))\n",
    "plt.show()"
   ]
  },
  {
   "cell_type": "code",
   "execution_count": 20,
   "id": "32af8dd2-a417-4f1c-a934-4eb9b6f85283",
   "metadata": {
    "tags": []
   },
   "outputs": [
    {
     "data": {
      "image/png": "[encoded data removed]",
      "text/plain": [
       "<Figure size 1200x600 with 1 Axes>"
      ]
     },
     "metadata": {
      "needs_background": "light"
     },
     "output_type": "display_data"
    },
    {
     "data": {
      "image/png": "[encoded data removed]",
      "text/plain": [
       "<Figure size 1200x600 with 1 Axes>"
      ]
     },
     "metadata": {
      "needs_background": "light"
     },
     "output_type": "display_data"
    },
    {
     "data": {
      "image/png": "[encoded data removed]",
      "text/plain": [
       "<Figure size 1200x600 with 1 Axes>"
      ]
     },
     "metadata": {
      "needs_background": "light"
     },
     "output_type": "display_data"
    },
    {
     "data": {
      "image/png": "[encoded data removed]",
      "text/plain": [
       "<Figure size 1200x600 with 1 Axes>"
      ]
     },
     "metadata": {
      "needs_background": "light"
     },
     "output_type": "display_data"
    },
    {
     "data": {
      "image/png": "[encoded data removed]",
      "text/plain": [
       "<Figure size 1200x600 with 1 Axes>"
      ]
     },
     "metadata": {
      "needs_background": "light"
     },
     "output_type": "display_data"
    },
    {
     "data": {
      "image/png": "[encoded data removed]",
      "text/plain": [
       "<Figure size 1200x600 with 1 Axes>"
      ]
     },
     "metadata": {
      "needs_background": "light"
     },
     "output_type": "display_data"
    }
   ],
   "source": [
    "# 条形图 - 查看类别特征分布\n",
    "for col in ['Gender', 'Age', 'Occupation', 'City_Category', 'Stay_In_Current_City_Years', 'Marital_Status']:\n",
    "    sns.countplot(x=col, data=df)\n",
    "    plt.show()"
   ]
  },
  {
   "cell_type": "markdown",
   "id": "22206ca1-35e0-498e-87a1-2d9bb245d617",
   "metadata": {},
   "source": [
    "# 特征工程"
   ]
  },
  {
   "cell_type": "markdown",
   "id": "d34aa9a5-a7a3-44fb-927c-0387bf76d299",
   "metadata": {},
   "source": [
    "## 删除分析和构建模型不需要的列"
   ]
  },
  {
   "cell_type": "code",
   "execution_count": 21,
   "id": "9265fe64-1a47-434a-9e4c-e77b084c7b98",
   "metadata": {
    "tags": []
   },
   "outputs": [],
   "source": [
    "df.drop(['User_ID', 'Product_ID'], axis=1, inplace=True)"
   ]
  },
  {
   "cell_type": "code",
   "execution_count": 22,
   "id": "5d41d2cc-31d2-4a66-bb43-2e5b1566b0d7",
   "metadata": {
    "tags": []
   },
   "outputs": [
    {
     "data": {
      "image/png": "[encoded data removed]",
      "text/plain": [
       "<Figure size 1200x600 with 2 Axes>"
      ]
     },
     "metadata": {
      "needs_background": "light"
     },
     "output_type": "display_data"
    }
   ],
   "source": [
    "# 选择数值型列\n",
    "numeric_df = df.select_dtypes(include=['number'])\n",
    "\n",
    "# 计算相关性并绘制热力图\n",
    "sns.heatmap(numeric_df.corr(), annot=True, cmap='coolwarm')\n",
    "plt.show()"
   ]
  },
  {
   "cell_type": "markdown",
   "id": "4d4b0237-c817-45ce-a283-3f032f9396c3",
   "metadata": {},
   "source": [
    "## 缺失值"
   ]
  },
  {
   "cell_type": "code",
   "execution_count": 23,
   "id": "a1621ad6-3d44-4479-a971-da1f68285696",
   "metadata": {
    "tags": []
   },
   "outputs": [
    {
     "data": {
      "text/plain": [
       "Gender                           0\n",
       "Age                              0\n",
       "Occupation                       0\n",
       "City_Category                    0\n",
       "Stay_In_Current_City_Years       0\n",
       "Marital_Status                   0\n",
       "Product_Category_1               0\n",
       "Product_Category_2            3243\n",
       "Product_Category_3            7003\n",
       "Purchase                         0\n",
       "dtype: int64"
      ]
     },
     "execution_count": 23,
     "metadata": {},
     "output_type": "execute_result"
    }
   ],
   "source": [
    "df.isnull().sum()"
   ]
  },
  {
   "cell_type": "code",
   "execution_count": 24,
   "id": "961f6bca-3723-4bb5-80b7-98d302646849",
   "metadata": {
    "tags": []
   },
   "outputs": [],
   "source": [
    "!pip install missingno --quiet"
   ]
  },
  {
   "cell_type": "code",
   "execution_count": 25,
   "id": "993b2d85-daaa-41e6-a0fd-4fa121c46487",
   "metadata": {
    "tags": []
   },
   "outputs": [
    {
     "data": {
      "image/png": "[encoded data removed]",
      "text/plain": [
       "<Figure size 2500x1000 with 2 Axes>"
      ]
     },
     "metadata": {
      "needs_background": "light"
     },
     "output_type": "display_data"
    }
   ],
   "source": [
    "## Reading the missingno \n",
    "import missingno as msno\n",
    "\n",
    "msno.matrix(df)   ## Used to plot the missingno matrix \n",
    "plt.show()"
   ]
  },
  {
   "cell_type": "code",
   "execution_count": 26,
   "id": "a3ce584e-6a50-42f1-9cbc-ed8a36e1ccb9",
   "metadata": {},
   "outputs": [],
   "source": [
    "# 填充缺失值\n",
    "# 由于Product_Category_2和Product_Category_3有缺失值，可以考虑用-1这种特殊值填充\n",
    "df['Product_Category_2'].fillna(-1, inplace=True)\n",
    "df['Product_Category_3'].fillna(-1, inplace=True)"
   ]
  },
  {
   "cell_type": "code",
   "execution_count": 27,
   "id": "18f151cc-3eb8-4781-8e41-10b1794e95e6",
   "metadata": {
    "tags": []
   },
   "outputs": [
    {
     "data": {
      "image/png": "[encoded data removed]",
      "text/plain": [
       "<Figure size 2500x1000 with 2 Axes>"
      ]
     },
     "metadata": {
      "needs_background": "light"
     },
     "output_type": "display_data"
    }
   ],
   "source": [
    "msno.matrix(df)   ## Used to plot the missingno matrix \n",
    "plt.show()"
   ]
  },
  {
   "cell_type": "markdown",
   "id": "acd8c9f9-5dde-4b89-bb2c-a6924baeee40",
   "metadata": {
    "tags": []
   },
   "source": [
    "# 离群&&异常值"
   ]
  },
  {
   "cell_type": "code",
   "execution_count": 28,
   "id": "5b76c140-5806-46f8-a0f8-11a96173ccc2",
   "metadata": {},
   "outputs": [
    {
     "data": {
      "text/plain": [
       "Gender                           2\n",
       "Age                              7\n",
       "Occupation                      21\n",
       "City_Category                    3\n",
       "Stay_In_Current_City_Years       5\n",
       "Marital_Status                   2\n",
       "Product_Category_1              18\n",
       "Product_Category_2              18\n",
       "Product_Category_3              16\n",
       "Purchase                      5876\n",
       "dtype: int64"
      ]
     },
     "execution_count": 28,
     "metadata": {},
     "output_type": "execute_result"
    }
   ],
   "source": [
    "# 不唯一值\n",
    "df.nunique()"
   ]
  },
  {
   "cell_type": "code",
   "execution_count": 29,
   "id": "c232cf0e-adc1-41cb-8811-1a4dd8b6de87",
   "metadata": {
    "tags": []
   },
   "outputs": [
    {
     "data": {
      "text/plain": [
       "count    10000.000000\n",
       "mean      9152.487700\n",
       "std       4881.543001\n",
       "min        186.000000\n",
       "25%       5831.750000\n",
       "50%       8021.500000\n",
       "75%      11922.250000\n",
       "max      23958.000000\n",
       "Name: Purchase, dtype: float64"
      ]
     },
     "execution_count": 29,
     "metadata": {},
     "output_type": "execute_result"
    }
   ],
   "source": [
    "# 描述性统计\n",
    "df['Purchase'].describe()"
   ]
  },
  {
   "cell_type": "code",
   "execution_count": 30,
   "id": "d23b60b5-cb08-4925-b7d7-1ea68f675b11",
   "metadata": {
    "tags": []
   },
   "outputs": [
    {
     "data": {
      "text/plain": [
       "0.25     5831.75\n",
       "0.50     8021.50\n",
       "0.75    11922.25\n",
       "0.90    16035.40\n",
       "0.95    19251.05\n",
       "0.99    20625.04\n",
       "Name: Purchase, dtype: float64"
      ]
     },
     "execution_count": 30,
     "metadata": {},
     "output_type": "execute_result"
    }
   ],
   "source": [
    "# 百分位数\n",
    "percentiles = [0.25, 0.50, 0.75, 0.90, 0.95, 0.99]\n",
    "df['Purchase'].quantile(percentiles)"
   ]
  },
  {
   "cell_type": "code",
   "execution_count": 31,
   "id": "a22e4179-981d-458e-9da3-0f416dd7ea30",
   "metadata": {
    "tags": []
   },
   "outputs": [
    {
     "data": {
      "text/plain": [
       "<Axes: xlabel='Purchase', ylabel='Count'>"
      ]
     },
     "execution_count": 31,
     "metadata": {},
     "output_type": "execute_result"
    },
    {
     "data": {
      "image/png": "[encoded data removed]",
      "text/plain": [
       "<Figure size 1200x600 with 1 Axes>"
      ]
     },
     "metadata": {},
     "output_type": "display_data"
    }
   ],
   "source": [
    "# 设置绘图样式\n",
    "sns.set(style=\"whitegrid\")\n",
    "\n",
    "# 创建图形和轴\n",
    "plt.figure(figsize=(12, 6))\n",
    "\n",
    "# 绘制Purchase列的分布柱状图\n",
    "sns.histplot(df['Purchase'], bins=50, kde=True)"
   ]
  },
  {
   "cell_type": "code",
   "execution_count": 32,
   "id": "ae9677cc-5877-4920-999a-863fd843ad29",
   "metadata": {
    "tags": []
   },
   "outputs": [
    {
     "data": {
      "image/png": "[encoded data removed]",
      "text/plain": [
       "<Figure size 1200x600 with 1 Axes>"
      ]
     },
     "metadata": {},
     "output_type": "display_data"
    }
   ],
   "source": [
    "# 箱线图 - 查看数值特征离群值\n",
    "sns.boxplot(data=df[['Purchase']])\n",
    "plt.show()"
   ]
  },
  {
   "cell_type": "markdown",
   "id": "6f7e11ae-fd78-4267-861e-cd5e1b36fd0d",
   "metadata": {},
   "source": [
    "# 特征编码"
   ]
  },
  {
   "cell_type": "code",
   "execution_count": 33,
   "id": "1b682d0a-bc2a-412f-bdee-2048e4810209",
   "metadata": {
    "tags": []
   },
   "outputs": [],
   "source": [
    "from sklearn.preprocessing import OneHotEncoder, LabelEncoder"
   ]
  },
  {
   "cell_type": "markdown",
   "id": "555a987e-7771-4ed8-ba09-dc92b39c3536",
   "metadata": {},
   "source": [
    "# 标签编码"
   ]
  },
  {
   "cell_type": "code",
   "execution_count": 34,
   "id": "6d9ff052-6efd-4d42-8098-98f55b9b09c4",
   "metadata": {},
   "outputs": [],
   "source": [
    "# 创建 LabelEncoder 对象\n",
    "le_age = LabelEncoder()\n",
    "le_stay = LabelEncoder()\n",
    "\n",
    "# 对 'Age' 特征进行标签编码\n",
    "df['Age_Encoded'] = le_age.fit_transform(df['Age'])\n",
    "\n",
    "# 对 'Stay_In_Current_City_Years' 特征进行标签编码\n",
    "df['Stay_Encoded'] = le_stay.fit_transform(df['Stay_In_Current_City_Years'])\n",
    "\n",
    "# 删除原始的类别特征\n",
    "df.drop(['Age', 'Stay_In_Current_City_Years'], axis=1, inplace=True)"
   ]
  },
  {
   "cell_type": "code",
   "execution_count": 35,
   "id": "5c11d5fb-356d-486d-9825-0ad4169ba55d",
   "metadata": {
    "tags": []
   },
   "outputs": [
    {
     "data": {
      "text/html": [
       "<div>\n",
       "<style scoped>\n",
       "    .dataframe tbody tr th:only-of-type {\n",
       "        vertical-align: middle;\n",
       "    }\n",
       "\n",
       "    .dataframe tbody tr th {\n",
       "        vertical-align: top;\n",
       "    }\n",
       "\n",
       "    .dataframe thead th {\n",
       "        text-align: right;\n",
       "    }\n",
       "</style>\n",
       "<table border=\"1\" class=\"dataframe\">\n",
       "  <thead>\n",
       "    <tr style=\"text-align: right;\">\n",
       "      <th></th>\n",
       "      <th>Gender</th>\n",
       "      <th>Occupation</th>\n",
       "      <th>City_Category</th>\n",
       "      <th>Marital_Status</th>\n",
       "      <th>Product_Category_1</th>\n",
       "      <th>Product_Category_2</th>\n",
       "      <th>Product_Category_3</th>\n",
       "      <th>Purchase</th>\n",
       "      <th>Age_Encoded</th>\n",
       "      <th>Stay_Encoded</th>\n",
       "    </tr>\n",
       "  </thead>\n",
       "  <tbody>\n",
       "    <tr>\n",
       "      <th>3206</th>\n",
       "      <td>M</td>\n",
       "      <td>0</td>\n",
       "      <td>A</td>\n",
       "      <td>0</td>\n",
       "      <td>8</td>\n",
       "      <td>13.0</td>\n",
       "      <td>14.0</td>\n",
       "      <td>2213</td>\n",
       "      <td>1</td>\n",
       "      <td>0</td>\n",
       "    </tr>\n",
       "    <tr>\n",
       "      <th>5605</th>\n",
       "      <td>M</td>\n",
       "      <td>20</td>\n",
       "      <td>B</td>\n",
       "      <td>0</td>\n",
       "      <td>1</td>\n",
       "      <td>2.0</td>\n",
       "      <td>-1.0</td>\n",
       "      <td>19346</td>\n",
       "      <td>3</td>\n",
       "      <td>4</td>\n",
       "    </tr>\n",
       "    <tr>\n",
       "      <th>4642</th>\n",
       "      <td>F</td>\n",
       "      <td>3</td>\n",
       "      <td>A</td>\n",
       "      <td>0</td>\n",
       "      <td>5</td>\n",
       "      <td>6.0</td>\n",
       "      <td>16.0</td>\n",
       "      <td>8770</td>\n",
       "      <td>2</td>\n",
       "      <td>3</td>\n",
       "    </tr>\n",
       "    <tr>\n",
       "      <th>7056</th>\n",
       "      <td>M</td>\n",
       "      <td>4</td>\n",
       "      <td>A</td>\n",
       "      <td>1</td>\n",
       "      <td>8</td>\n",
       "      <td>-1.0</td>\n",
       "      <td>-1.0</td>\n",
       "      <td>6088</td>\n",
       "      <td>1</td>\n",
       "      <td>0</td>\n",
       "    </tr>\n",
       "    <tr>\n",
       "      <th>6155</th>\n",
       "      <td>M</td>\n",
       "      <td>3</td>\n",
       "      <td>B</td>\n",
       "      <td>0</td>\n",
       "      <td>1</td>\n",
       "      <td>15.0</td>\n",
       "      <td>16.0</td>\n",
       "      <td>19387</td>\n",
       "      <td>2</td>\n",
       "      <td>2</td>\n",
       "    </tr>\n",
       "    <tr>\n",
       "      <th>1526</th>\n",
       "      <td>M</td>\n",
       "      <td>16</td>\n",
       "      <td>B</td>\n",
       "      <td>0</td>\n",
       "      <td>1</td>\n",
       "      <td>8.0</td>\n",
       "      <td>-1.0</td>\n",
       "      <td>11488</td>\n",
       "      <td>3</td>\n",
       "      <td>0</td>\n",
       "    </tr>\n",
       "    <tr>\n",
       "      <th>2142</th>\n",
       "      <td>F</td>\n",
       "      <td>2</td>\n",
       "      <td>A</td>\n",
       "      <td>1</td>\n",
       "      <td>1</td>\n",
       "      <td>2.0</td>\n",
       "      <td>5.0</td>\n",
       "      <td>11642</td>\n",
       "      <td>6</td>\n",
       "      <td>3</td>\n",
       "    </tr>\n",
       "    <tr>\n",
       "      <th>7368</th>\n",
       "      <td>F</td>\n",
       "      <td>20</td>\n",
       "      <td>A</td>\n",
       "      <td>0</td>\n",
       "      <td>5</td>\n",
       "      <td>-1.0</td>\n",
       "      <td>-1.0</td>\n",
       "      <td>1985</td>\n",
       "      <td>2</td>\n",
       "      <td>1</td>\n",
       "    </tr>\n",
       "    <tr>\n",
       "      <th>867</th>\n",
       "      <td>M</td>\n",
       "      <td>10</td>\n",
       "      <td>C</td>\n",
       "      <td>0</td>\n",
       "      <td>5</td>\n",
       "      <td>-1.0</td>\n",
       "      <td>-1.0</td>\n",
       "      <td>8817</td>\n",
       "      <td>0</td>\n",
       "      <td>0</td>\n",
       "    </tr>\n",
       "    <tr>\n",
       "      <th>2124</th>\n",
       "      <td>M</td>\n",
       "      <td>1</td>\n",
       "      <td>C</td>\n",
       "      <td>1</td>\n",
       "      <td>8</td>\n",
       "      <td>14.0</td>\n",
       "      <td>-1.0</td>\n",
       "      <td>9942</td>\n",
       "      <td>5</td>\n",
       "      <td>3</td>\n",
       "    </tr>\n",
       "    <tr>\n",
       "      <th>7434</th>\n",
       "      <td>M</td>\n",
       "      <td>0</td>\n",
       "      <td>A</td>\n",
       "      <td>0</td>\n",
       "      <td>15</td>\n",
       "      <td>-1.0</td>\n",
       "      <td>-1.0</td>\n",
       "      <td>20765</td>\n",
       "      <td>2</td>\n",
       "      <td>1</td>\n",
       "    </tr>\n",
       "    <tr>\n",
       "      <th>1464</th>\n",
       "      <td>M</td>\n",
       "      <td>6</td>\n",
       "      <td>C</td>\n",
       "      <td>1</td>\n",
       "      <td>5</td>\n",
       "      <td>-1.0</td>\n",
       "      <td>-1.0</td>\n",
       "      <td>5320</td>\n",
       "      <td>2</td>\n",
       "      <td>1</td>\n",
       "    </tr>\n",
       "    <tr>\n",
       "      <th>1422</th>\n",
       "      <td>M</td>\n",
       "      <td>1</td>\n",
       "      <td>C</td>\n",
       "      <td>0</td>\n",
       "      <td>1</td>\n",
       "      <td>2.0</td>\n",
       "      <td>15.0</td>\n",
       "      <td>19190</td>\n",
       "      <td>4</td>\n",
       "      <td>1</td>\n",
       "    </tr>\n",
       "    <tr>\n",
       "      <th>6288</th>\n",
       "      <td>M</td>\n",
       "      <td>0</td>\n",
       "      <td>B</td>\n",
       "      <td>0</td>\n",
       "      <td>5</td>\n",
       "      <td>11.0</td>\n",
       "      <td>-1.0</td>\n",
       "      <td>3498</td>\n",
       "      <td>3</td>\n",
       "      <td>2</td>\n",
       "    </tr>\n",
       "    <tr>\n",
       "      <th>812</th>\n",
       "      <td>M</td>\n",
       "      <td>1</td>\n",
       "      <td>B</td>\n",
       "      <td>1</td>\n",
       "      <td>8</td>\n",
       "      <td>-1.0</td>\n",
       "      <td>-1.0</td>\n",
       "      <td>6140</td>\n",
       "      <td>2</td>\n",
       "      <td>2</td>\n",
       "    </tr>\n",
       "  </tbody>\n",
       "</table>\n",
       "</div>"
      ],
      "text/plain": [
       "     Gender  Occupation City_Category  Marital_Status  Product_Category_1  \\\n",
       "3206      M           0             A               0                   8   \n",
       "5605      M          20             B               0                   1   \n",
       "4642      F           3             A               0                   5   \n",
       "7056      M           4             A               1                   8   \n",
       "6155      M           3             B               0                   1   \n",
       "1526      M          16             B               0                   1   \n",
       "2142      F           2             A               1                   1   \n",
       "7368      F          20             A               0                   5   \n",
       "867       M          10             C               0                   5   \n",
       "2124      M           1             C               1                   8   \n",
       "7434      M           0             A               0                  15   \n",
       "1464      M           6             C               1                   5   \n",
       "1422      M           1             C               0                   1   \n",
       "6288      M           0             B               0                   5   \n",
       "812       M           1             B               1                   8   \n",
       "\n",
       "      Product_Category_2  Product_Category_3  Purchase  Age_Encoded  \\\n",
       "3206                13.0                14.0      2213            1   \n",
       "5605                 2.0                -1.0     19346            3   \n",
       "4642                 6.0                16.0      8770            2   \n",
       "7056                -1.0                -1.0      6088            1   \n",
       "6155                15.0                16.0     19387            2   \n",
       "1526                 8.0                -1.0     11488            3   \n",
       "2142                 2.0                 5.0     11642            6   \n",
       "7368                -1.0                -1.0      1985            2   \n",
       "867                 -1.0                -1.0      8817            0   \n",
       "2124                14.0                -1.0      9942            5   \n",
       "7434                -1.0                -1.0     20765            2   \n",
       "1464                -1.0                -1.0      5320            2   \n",
       "1422                 2.0                15.0     19190            4   \n",
       "6288                11.0                -1.0      3498            3   \n",
       "812                 -1.0                -1.0      6140            2   \n",
       "\n",
       "      Stay_Encoded  \n",
       "3206             0  \n",
       "5605             4  \n",
       "4642             3  \n",
       "7056             0  \n",
       "6155             2  \n",
       "1526             0  \n",
       "2142             3  \n",
       "7368             1  \n",
       "867              0  \n",
       "2124             3  \n",
       "7434             1  \n",
       "1464             1  \n",
       "1422             1  \n",
       "6288             2  \n",
       "812              2  "
      ]
     },
     "execution_count": 35,
     "metadata": {},
     "output_type": "execute_result"
    }
   ],
   "source": [
    "# 数据基本信息\n",
    "df.sample(15)"
   ]
  },
  {
   "cell_type": "markdown",
   "id": "e1f7bb8f-faae-43b5-bc81-d3f4c155e912",
   "metadata": {
    "tags": []
   },
   "source": [
    "# 独热编码"
   ]
  },
  {
   "cell_type": "code",
   "execution_count": 36,
   "id": "d83d00c2-8ba9-42cc-8f1d-942c986f22f7",
   "metadata": {
    "tags": []
   },
   "outputs": [],
   "source": [
    "# 创建 OneHotEncoder 对象\n",
    "ohe = OneHotEncoder(handle_unknown='ignore')\n",
    "\n",
    "# 选择需要进行独热编码的特征\n",
    "ohe_features = ['Gender', 'City_Category']\n",
    "\n",
    "# 使用 fit_transform 方法对特征进行编码\n",
    "ohe_data = ohe.fit_transform(df[ohe_features]).toarray()\n",
    "\n",
    "# 将编码后的数据转换为 DataFrame\n",
    "ohe_df = pd.DataFrame(ohe_data, columns=ohe.get_feature_names_out(ohe_features))\n",
    "\n",
    "# 将编码后的 DataFrame 与原始 DataFrame 合并\n",
    "df = pd.concat([df, ohe_df], axis=1)\n",
    "\n",
    "# 删除原始的类别特征\n",
    "df.drop(ohe_features, axis=1, inplace=True)"
   ]
  },
  {
   "cell_type": "code",
   "execution_count": 37,
   "id": "3c5e1709-9d62-4891-a497-1caa03a82dd5",
   "metadata": {
    "tags": []
   },
   "outputs": [
    {
     "data": {
      "text/html": [
       "<div>\n",
       "<style scoped>\n",
       "    .dataframe tbody tr th:only-of-type {\n",
       "        vertical-align: middle;\n",
       "    }\n",
       "\n",
       "    .dataframe tbody tr th {\n",
       "        vertical-align: top;\n",
       "    }\n",
       "\n",
       "    .dataframe thead th {\n",
       "        text-align: right;\n",
       "    }\n",
       "</style>\n",
       "<table border=\"1\" class=\"dataframe\">\n",
       "  <thead>\n",
       "    <tr style=\"text-align: right;\">\n",
       "      <th></th>\n",
       "      <th>Occupation</th>\n",
       "      <th>Marital_Status</th>\n",
       "      <th>Product_Category_1</th>\n",
       "      <th>Product_Category_2</th>\n",
       "      <th>Product_Category_3</th>\n",
       "      <th>Purchase</th>\n",
       "      <th>Age_Encoded</th>\n",
       "      <th>Stay_Encoded</th>\n",
       "      <th>Gender_F</th>\n",
       "      <th>Gender_M</th>\n",
       "      <th>City_Category_A</th>\n",
       "      <th>City_Category_B</th>\n",
       "      <th>City_Category_C</th>\n",
       "    </tr>\n",
       "  </thead>\n",
       "  <tbody>\n",
       "    <tr>\n",
       "      <th>7702</th>\n",
       "      <td>1</td>\n",
       "      <td>1</td>\n",
       "      <td>5</td>\n",
       "      <td>-1.0</td>\n",
       "      <td>-1.0</td>\n",
       "      <td>7095</td>\n",
       "      <td>2</td>\n",
       "      <td>1</td>\n",
       "      <td>1.0</td>\n",
       "      <td>0.0</td>\n",
       "      <td>0.0</td>\n",
       "      <td>1.0</td>\n",
       "      <td>0.0</td>\n",
       "    </tr>\n",
       "    <tr>\n",
       "      <th>5394</th>\n",
       "      <td>17</td>\n",
       "      <td>0</td>\n",
       "      <td>2</td>\n",
       "      <td>5.0</td>\n",
       "      <td>15.0</td>\n",
       "      <td>15988</td>\n",
       "      <td>3</td>\n",
       "      <td>1</td>\n",
       "      <td>0.0</td>\n",
       "      <td>1.0</td>\n",
       "      <td>1.0</td>\n",
       "      <td>0.0</td>\n",
       "      <td>0.0</td>\n",
       "    </tr>\n",
       "    <tr>\n",
       "      <th>6123</th>\n",
       "      <td>15</td>\n",
       "      <td>0</td>\n",
       "      <td>1</td>\n",
       "      <td>6.0</td>\n",
       "      <td>8.0</td>\n",
       "      <td>19644</td>\n",
       "      <td>2</td>\n",
       "      <td>2</td>\n",
       "      <td>0.0</td>\n",
       "      <td>1.0</td>\n",
       "      <td>0.0</td>\n",
       "      <td>1.0</td>\n",
       "      <td>0.0</td>\n",
       "    </tr>\n",
       "    <tr>\n",
       "      <th>9539</th>\n",
       "      <td>20</td>\n",
       "      <td>0</td>\n",
       "      <td>1</td>\n",
       "      <td>5.0</td>\n",
       "      <td>18.0</td>\n",
       "      <td>11680</td>\n",
       "      <td>3</td>\n",
       "      <td>0</td>\n",
       "      <td>0.0</td>\n",
       "      <td>1.0</td>\n",
       "      <td>0.0</td>\n",
       "      <td>1.0</td>\n",
       "      <td>0.0</td>\n",
       "    </tr>\n",
       "    <tr>\n",
       "      <th>5812</th>\n",
       "      <td>15</td>\n",
       "      <td>1</td>\n",
       "      <td>1</td>\n",
       "      <td>2.0</td>\n",
       "      <td>9.0</td>\n",
       "      <td>15186</td>\n",
       "      <td>2</td>\n",
       "      <td>2</td>\n",
       "      <td>0.0</td>\n",
       "      <td>1.0</td>\n",
       "      <td>1.0</td>\n",
       "      <td>0.0</td>\n",
       "      <td>0.0</td>\n",
       "    </tr>\n",
       "    <tr>\n",
       "      <th>2912</th>\n",
       "      <td>4</td>\n",
       "      <td>0</td>\n",
       "      <td>8</td>\n",
       "      <td>14.0</td>\n",
       "      <td>17.0</td>\n",
       "      <td>10004</td>\n",
       "      <td>1</td>\n",
       "      <td>1</td>\n",
       "      <td>1.0</td>\n",
       "      <td>0.0</td>\n",
       "      <td>1.0</td>\n",
       "      <td>0.0</td>\n",
       "      <td>0.0</td>\n",
       "    </tr>\n",
       "    <tr>\n",
       "      <th>9845</th>\n",
       "      <td>4</td>\n",
       "      <td>0</td>\n",
       "      <td>5</td>\n",
       "      <td>-1.0</td>\n",
       "      <td>-1.0</td>\n",
       "      <td>5354</td>\n",
       "      <td>1</td>\n",
       "      <td>2</td>\n",
       "      <td>0.0</td>\n",
       "      <td>1.0</td>\n",
       "      <td>1.0</td>\n",
       "      <td>0.0</td>\n",
       "      <td>0.0</td>\n",
       "    </tr>\n",
       "    <tr>\n",
       "      <th>631</th>\n",
       "      <td>9</td>\n",
       "      <td>1</td>\n",
       "      <td>1</td>\n",
       "      <td>6.0</td>\n",
       "      <td>16.0</td>\n",
       "      <td>18971</td>\n",
       "      <td>3</td>\n",
       "      <td>4</td>\n",
       "      <td>0.0</td>\n",
       "      <td>1.0</td>\n",
       "      <td>0.0</td>\n",
       "      <td>1.0</td>\n",
       "      <td>0.0</td>\n",
       "    </tr>\n",
       "    <tr>\n",
       "      <th>1529</th>\n",
       "      <td>16</td>\n",
       "      <td>0</td>\n",
       "      <td>5</td>\n",
       "      <td>8.0</td>\n",
       "      <td>18.0</td>\n",
       "      <td>5365</td>\n",
       "      <td>3</td>\n",
       "      <td>0</td>\n",
       "      <td>0.0</td>\n",
       "      <td>1.0</td>\n",
       "      <td>0.0</td>\n",
       "      <td>1.0</td>\n",
       "      <td>0.0</td>\n",
       "    </tr>\n",
       "    <tr>\n",
       "      <th>8727</th>\n",
       "      <td>0</td>\n",
       "      <td>0</td>\n",
       "      <td>8</td>\n",
       "      <td>-1.0</td>\n",
       "      <td>-1.0</td>\n",
       "      <td>5857</td>\n",
       "      <td>3</td>\n",
       "      <td>1</td>\n",
       "      <td>0.0</td>\n",
       "      <td>1.0</td>\n",
       "      <td>0.0</td>\n",
       "      <td>0.0</td>\n",
       "      <td>1.0</td>\n",
       "    </tr>\n",
       "    <tr>\n",
       "      <th>6083</th>\n",
       "      <td>17</td>\n",
       "      <td>0</td>\n",
       "      <td>8</td>\n",
       "      <td>14.0</td>\n",
       "      <td>-1.0</td>\n",
       "      <td>9758</td>\n",
       "      <td>3</td>\n",
       "      <td>0</td>\n",
       "      <td>1.0</td>\n",
       "      <td>0.0</td>\n",
       "      <td>0.0</td>\n",
       "      <td>0.0</td>\n",
       "      <td>1.0</td>\n",
       "    </tr>\n",
       "    <tr>\n",
       "      <th>4295</th>\n",
       "      <td>20</td>\n",
       "      <td>0</td>\n",
       "      <td>1</td>\n",
       "      <td>5.0</td>\n",
       "      <td>-1.0</td>\n",
       "      <td>15670</td>\n",
       "      <td>2</td>\n",
       "      <td>4</td>\n",
       "      <td>0.0</td>\n",
       "      <td>1.0</td>\n",
       "      <td>1.0</td>\n",
       "      <td>0.0</td>\n",
       "      <td>0.0</td>\n",
       "    </tr>\n",
       "    <tr>\n",
       "      <th>3121</th>\n",
       "      <td>1</td>\n",
       "      <td>1</td>\n",
       "      <td>5</td>\n",
       "      <td>8.0</td>\n",
       "      <td>14.0</td>\n",
       "      <td>7074</td>\n",
       "      <td>2</td>\n",
       "      <td>0</td>\n",
       "      <td>0.0</td>\n",
       "      <td>1.0</td>\n",
       "      <td>1.0</td>\n",
       "      <td>0.0</td>\n",
       "      <td>0.0</td>\n",
       "    </tr>\n",
       "    <tr>\n",
       "      <th>1441</th>\n",
       "      <td>0</td>\n",
       "      <td>0</td>\n",
       "      <td>6</td>\n",
       "      <td>16.0</td>\n",
       "      <td>-1.0</td>\n",
       "      <td>20261</td>\n",
       "      <td>2</td>\n",
       "      <td>0</td>\n",
       "      <td>0.0</td>\n",
       "      <td>1.0</td>\n",
       "      <td>0.0</td>\n",
       "      <td>1.0</td>\n",
       "      <td>0.0</td>\n",
       "    </tr>\n",
       "    <tr>\n",
       "      <th>8931</th>\n",
       "      <td>12</td>\n",
       "      <td>0</td>\n",
       "      <td>5</td>\n",
       "      <td>15.0</td>\n",
       "      <td>-1.0</td>\n",
       "      <td>8777</td>\n",
       "      <td>2</td>\n",
       "      <td>1</td>\n",
       "      <td>0.0</td>\n",
       "      <td>1.0</td>\n",
       "      <td>0.0</td>\n",
       "      <td>0.0</td>\n",
       "      <td>1.0</td>\n",
       "    </tr>\n",
       "  </tbody>\n",
       "</table>\n",
       "</div>"
      ],
      "text/plain": [
       "      Occupation  Marital_Status  Product_Category_1  Product_Category_2  \\\n",
       "7702           1               1                   5                -1.0   \n",
       "5394          17               0                   2                 5.0   \n",
       "6123          15               0                   1                 6.0   \n",
       "9539          20               0                   1                 5.0   \n",
       "5812          15               1                   1                 2.0   \n",
       "2912           4               0                   8                14.0   \n",
       "9845           4               0                   5                -1.0   \n",
       "631            9               1                   1                 6.0   \n",
       "1529          16               0                   5                 8.0   \n",
       "8727           0               0                   8                -1.0   \n",
       "6083          17               0                   8                14.0   \n",
       "4295          20               0                   1                 5.0   \n",
       "3121           1               1                   5                 8.0   \n",
       "1441           0               0                   6                16.0   \n",
       "8931          12               0                   5                15.0   \n",
       "\n",
       "      Product_Category_3  Purchase  Age_Encoded  Stay_Encoded  Gender_F  \\\n",
       "7702                -1.0      7095            2             1       1.0   \n",
       "5394                15.0     15988            3             1       0.0   \n",
       "6123                 8.0     19644            2             2       0.0   \n",
       "9539                18.0     11680            3             0       0.0   \n",
       "5812                 9.0     15186            2             2       0.0   \n",
       "2912                17.0     10004            1             1       1.0   \n",
       "9845                -1.0      5354            1             2       0.0   \n",
       "631                 16.0     18971            3             4       0.0   \n",
       "1529                18.0      5365            3             0       0.0   \n",
       "8727                -1.0      5857            3             1       0.0   \n",
       "6083                -1.0      9758            3             0       1.0   \n",
       "4295                -1.0     15670            2             4       0.0   \n",
       "3121                14.0      7074            2             0       0.0   \n",
       "1441                -1.0     20261            2             0       0.0   \n",
       "8931                -1.0      8777            2             1       0.0   \n",
       "\n",
       "      Gender_M  City_Category_A  City_Category_B  City_Category_C  \n",
       "7702       0.0              0.0              1.0              0.0  \n",
       "5394       1.0              1.0              0.0              0.0  \n",
       "6123       1.0              0.0              1.0              0.0  \n",
       "9539       1.0              0.0              1.0              0.0  \n",
       "5812       1.0              1.0              0.0              0.0  \n",
       "2912       0.0              1.0              0.0              0.0  \n",
       "9845       1.0              1.0              0.0              0.0  \n",
       "631        1.0              0.0              1.0              0.0  \n",
       "1529       1.0              0.0              1.0              0.0  \n",
       "8727       1.0              0.0              0.0              1.0  \n",
       "6083       0.0              0.0              0.0              1.0  \n",
       "4295       1.0              1.0              0.0              0.0  \n",
       "3121       1.0              1.0              0.0              0.0  \n",
       "1441       1.0              0.0              1.0              0.0  \n",
       "8931       1.0              0.0              0.0              1.0  "
      ]
     },
     "execution_count": 37,
     "metadata": {},
     "output_type": "execute_result"
    }
   ],
   "source": [
    "# 数据基本信息\n",
    "df.sample(15)"
   ]
  },
  {
   "cell_type": "code",
   "execution_count": 38,
   "id": "cd25f3d7-2990-4311-8f1c-8e9e3c4afdb7",
   "metadata": {},
   "outputs": [
    {
     "name": "stdout",
     "output_type": "stream",
     "text": [
      "<class 'pandas.core.frame.DataFrame'>\n",
      "RangeIndex: 10000 entries, 0 to 9999\n",
      "Data columns (total 13 columns):\n",
      " #   Column              Non-Null Count  Dtype  \n",
      "---  ------              --------------  -----  \n",
      " 0   Occupation          10000 non-null  int64  \n",
      " 1   Marital_Status      10000 non-null  int64  \n",
      " 2   Product_Category_1  10000 non-null  int64  \n",
      " 3   Product_Category_2  10000 non-null  float64\n",
      " 4   Product_Category_3  10000 non-null  float64\n",
      " 5   Purchase            10000 non-null  int64  \n",
      " 6   Age_Encoded         10000 non-null  int64  \n",
      " 7   Stay_Encoded        10000 non-null  int64  \n",
      " 8   Gender_F            10000 non-null  float64\n",
      " 9   Gender_M            10000 non-null  float64\n",
      " 10  City_Category_A     10000 non-null  float64\n",
      " 11  City_Category_B     10000 non-null  float64\n",
      " 12  City_Category_C     10000 non-null  float64\n",
      "dtypes: float64(7), int64(6)\n",
      "memory usage: 1015.8 KB\n"
     ]
    }
   ],
   "source": [
    "# 数据类型信息\n",
    "df.info()"
   ]
  },
  {
   "cell_type": "code",
   "execution_count": 39,
   "id": "d7477777-771d-42b8-b5a9-2dc8d144e69d",
   "metadata": {
    "tags": []
   },
   "outputs": [],
   "source": [
    "# 特征缩放\n",
    "num_features = ['Occupation', 'Product_Category_1', 'Product_Category_2', 'Product_Category_3', 'Age_Encoded', 'Stay_Encoded'] "
   ]
  },
  {
   "cell_type": "code",
   "execution_count": 40,
   "id": "03acd938-29a3-4749-af62-3c1a58dedc06",
   "metadata": {
    "tags": []
   },
   "outputs": [],
   "source": [
    "from sklearn.preprocessing import StandardScaler\n",
    "\n",
    "# 创建 StandardScaler 对象\n",
    "scaler = StandardScaler()\n",
    "\n",
    "# 使用 fit_transform 方法对特征进行缩放\n",
    "df[num_features] = scaler.fit_transform(df[num_features])"
   ]
  },
  {
   "cell_type": "code",
   "execution_count": 41,
   "id": "1f375cfa-aa18-425e-a1fc-513204147fe3",
   "metadata": {
    "tags": []
   },
   "outputs": [],
   "source": [
    "from sklearn.preprocessing import MinMaxScaler\n",
    "\n",
    "# 创建 MinMaxScaler 对象\n",
    "scaler = MinMaxScaler()\n",
    "\n",
    "# 使用 fit_transform 方法对特征进行缩放\n",
    "df[num_features] = scaler.fit_transform(df[num_features])"
   ]
  },
  {
   "cell_type": "code",
   "execution_count": 42,
   "id": "cf1d63a3-00fe-4f22-8961-598f2fedd19d",
   "metadata": {
    "tags": []
   },
   "outputs": [
    {
     "name": "stdout",
     "output_type": "stream",
     "text": [
      "<class 'pandas.core.frame.DataFrame'>\n",
      "RangeIndex: 10000 entries, 0 to 9999\n",
      "Data columns (total 13 columns):\n",
      " #   Column              Non-Null Count  Dtype  \n",
      "---  ------              --------------  -----  \n",
      " 0   Occupation          10000 non-null  float64\n",
      " 1   Marital_Status      10000 non-null  int64  \n",
      " 2   Product_Category_1  10000 non-null  float64\n",
      " 3   Product_Category_2  10000 non-null  float64\n",
      " 4   Product_Category_3  10000 non-null  float64\n",
      " 5   Purchase            10000 non-null  int64  \n",
      " 6   Age_Encoded         10000 non-null  float64\n",
      " 7   Stay_Encoded        10000 non-null  float64\n",
      " 8   Gender_F            10000 non-null  float64\n",
      " 9   Gender_M            10000 non-null  float64\n",
      " 10  City_Category_A     10000 non-null  float64\n",
      " 11  City_Category_B     10000 non-null  float64\n",
      " 12  City_Category_C     10000 non-null  float64\n",
      "dtypes: float64(11), int64(2)\n",
      "memory usage: 1015.8 KB\n"
     ]
    }
   ],
   "source": [
    "# 数据类型信息\n",
    "df.info()"
   ]
  },
  {
   "cell_type": "markdown",
   "id": "bba95852-a3b1-4025-ba18-0c54d4e1686e",
   "metadata": {},
   "source": [
    "# 模型训练"
   ]
  },
  {
   "cell_type": "code",
   "execution_count": 43,
   "id": "288e2983-d83f-4e9e-96e8-79a8b2b07348",
   "metadata": {
    "tags": []
   },
   "outputs": [],
   "source": [
    "from sklearn.model_selection import train_test_split\n",
    "\n",
    "# 划分训练集和测试集\n",
    "X = df.drop('Purchase', axis=1)\n",
    "y = df['Purchase']\n",
    "X_train, X_test, y_train, y_test = train_test_split(X, y, test_size=0.2, random_state=42) "
   ]
  },
  {
   "cell_type": "code",
   "execution_count": 44,
   "id": "4cc7646d-4d24-44c3-9ee7-e858243534b0",
   "metadata": {
    "tags": []
   },
   "outputs": [
    {
     "name": "stdout",
     "output_type": "stream",
     "text": [
      "---- Linear Regression ----\n",
      "MSE: 19336480.34\n",
      "RMSE: 4397.33\n",
      "R-squared: 0.17\n",
      "Cross-validation MSE: 20497105.78 (+/- 296905.21)\n",
      "---- Decision Tree ----\n",
      "MSE: 14908139.68\n",
      "RMSE: 3861.11\n",
      "R-squared: 0.36\n"
     ]
    },
    {
     "name": "stderr",
     "output_type": "stream",
     "text": [
      "/opt/conda/lib/python3.10/site-packages/sklearn/metrics/_regression.py:492: FutureWarning: 'squared' is deprecated in version 1.4 and will be removed in 1.6. To calculate the root mean squared error, use the function'root_mean_squared_error'.\n",
      "  warnings.warn(\n",
      "/opt/conda/lib/python3.10/site-packages/sklearn/metrics/_regression.py:492: FutureWarning: 'squared' is deprecated in version 1.4 and will be removed in 1.6. To calculate the root mean squared error, use the function'root_mean_squared_error'.\n",
      "  warnings.warn(\n"
     ]
    },
    {
     "name": "stdout",
     "output_type": "stream",
     "text": [
      "Cross-validation MSE: 18046952.99 (+/- 688284.83)\n",
      "---- Random Forest ----\n"
     ]
    },
    {
     "name": "stderr",
     "output_type": "stream",
     "text": [
      "/opt/conda/lib/python3.10/site-packages/sklearn/metrics/_regression.py:492: FutureWarning: 'squared' is deprecated in version 1.4 and will be removed in 1.6. To calculate the root mean squared error, use the function'root_mean_squared_error'.\n",
      "  warnings.warn(\n"
     ]
    },
    {
     "name": "stdout",
     "output_type": "stream",
     "text": [
      "MSE: 9456004.32\n",
      "RMSE: 3075.06\n",
      "R-squared: 0.59\n",
      "Cross-validation MSE: 10333867.05 (+/- 640643.01)\n",
      "---- Gradient Boosting ----\n"
     ]
    },
    {
     "name": "stderr",
     "output_type": "stream",
     "text": [
      "/opt/conda/lib/python3.10/site-packages/sklearn/metrics/_regression.py:492: FutureWarning: 'squared' is deprecated in version 1.4 and will be removed in 1.6. To calculate the root mean squared error, use the function'root_mean_squared_error'.\n",
      "  warnings.warn(\n"
     ]
    },
    {
     "name": "stdout",
     "output_type": "stream",
     "text": [
      "MSE: 8576631.49\n",
      "RMSE: 2928.59\n",
      "R-squared: 0.63\n",
      "Cross-validation MSE: 9038538.65 (+/- 631214.39)\n",
      "\n",
      "Best Parameters for Random Forest: {'max_depth': 10, 'min_samples_split': 10, 'n_estimators': 150}\n",
      "---- Best Random Forest ----\n",
      "MSE: 8535450.87\n",
      "RMSE: 2921.55\n",
      "R-squared: 0.63\n"
     ]
    },
    {
     "name": "stderr",
     "output_type": "stream",
     "text": [
      "/opt/conda/lib/python3.10/site-packages/sklearn/metrics/_regression.py:492: FutureWarning: 'squared' is deprecated in version 1.4 and will be removed in 1.6. To calculate the root mean squared error, use the function'root_mean_squared_error'.\n",
      "  warnings.warn(\n"
     ]
    }
   ],
   "source": [
    "import pandas as pd\n",
    "from sklearn.model_selection import train_test_split, cross_val_score, GridSearchCV\n",
    "from sklearn.linear_model import LinearRegression\n",
    "from sklearn.tree import DecisionTreeRegressor\n",
    "from sklearn.ensemble import RandomForestRegressor, GradientBoostingRegressor\n",
    "from sklearn.metrics import mean_squared_error, r2_score\n",
    "\n",
    "# 定义模型\n",
    "models = [\n",
    "    ('Linear Regression', LinearRegression()),\n",
    "    ('Decision Tree', DecisionTreeRegressor(random_state=42)),\n",
    "    ('Random Forest', RandomForestRegressor(random_state=42)),\n",
    "    ('Gradient Boosting', GradientBoostingRegressor(random_state=42))\n",
    "]\n",
    "\n",
    "# 训练和评估模型\n",
    "for name, model in models:\n",
    "    print(f'---- {name} ----')\n",
    "\n",
    "    # 训练模型\n",
    "    model.fit(X_train, y_train)\n",
    "\n",
    "    # 预测\n",
    "    y_pred = model.predict(X_test)\n",
    "\n",
    "    # 评估指标\n",
    "    mse = mean_squared_error(y_test, y_pred)\n",
    "    rmse = mean_squared_error(y_test, y_pred, squared=False)\n",
    "    r2 = r2_score(y_test, y_pred)\n",
    "\n",
    "    print(f'MSE: {mse:.2f}')\n",
    "    print(f'RMSE: {rmse:.2f}')\n",
    "    print(f'R-squared: {r2:.2f}')\n",
    "\n",
    "    # 使用交叉验证评估模型 (可选)\n",
    "    cv_scores = cross_val_score(model, X, y, scoring='neg_mean_squared_error', cv=5)\n",
    "    print(f'Cross-validation MSE: {-cv_scores.mean():.2f} (+/- {cv_scores.std():.2f})')\n",
    "\n",
    "# 4. 模型调优 (以随机森林为例)\n",
    "param_grid = {\n",
    "    'n_estimators': [50, 100, 150],\n",
    "    'max_depth': [5, 10, 15],\n",
    "    'min_samples_split': [2, 5, 10]\n",
    "}\n",
    "\n",
    "grid_search = GridSearchCV(RandomForestRegressor(random_state=42), param_grid, cv=5, scoring='neg_mean_squared_error')\n",
    "grid_search.fit(X_train, y_train)\n",
    "\n",
    "# 最佳模型\n",
    "best_model = grid_search.best_estimator_\n",
    "\n",
    "# 最佳参数\n",
    "print(f'\\nBest Parameters for Random Forest: {grid_search.best_params_}')\n",
    "\n",
    "# 评估最佳模型\n",
    "y_pred = best_model.predict(X_test)\n",
    "mse = mean_squared_error(y_test, y_pred)\n",
    "rmse = mean_squared_error(y_test, y_pred, squared=False)\n",
    "r2 = r2_score(y_test, y_pred)\n",
    "\n",
    "print(f'---- Best Random Forest ----')\n",
    "print(f'MSE: {mse:.2f}')\n",
    "print(f'RMSE: {rmse:.2f}')\n",
    "print(f'R-squared: {r2:.2f}')"
   ]
  },
  {
   "cell_type": "code",
   "execution_count": null,
   "id": "68e0037e-2f06-441f-bf4f-6dece8ec5cc7",
   "metadata": {},
   "outputs": [],
   "source": []
  }
 ],
 "metadata": {
  "environment": {
   "kernel": "python3",
   "name": "tf2-cpu.2-11.m122",
   "type": "gcloud",
   "uri": "us-docker.pkg.dev/deeplearning-platform-release/gcr.io/tf2-cpu.2-11:m122"
  },
  "kernelspec": {
   "display_name": "Python 3 (Local)",
   "language": "python",
   "name": "python3"
  },
  "language_info": {
   "codemirror_mode": {
    "name": "ipython",
    "version": 3
   },
   "file_extension": ".py",
   "mimetype": "text/x-python",
   "name": "python",
   "nbconvert_exporter": "python",
   "pygments_lexer": "ipython3",
   "version": "3.10.14"
  }
 },
 "nbformat": 4,
 "nbformat_minor": 5
}
